{
  "nbformat": 4,
  "nbformat_minor": 0,
  "metadata": {
    "colab": {
      "provenance": [],
      "authorship_tag": "ABX9TyOa+txUXEgksJCpo5ph4WMk",
      "include_colab_link": true
    },
    "kernelspec": {
      "name": "python3",
      "display_name": "Python 3"
    },
    "language_info": {
      "name": "python"
    }
  },
  "cells": [
    {
      "cell_type": "markdown",
      "metadata": {
        "id": "view-in-github",
        "colab_type": "text"
      },
      "source": [
        "<a href=\"https://colab.research.google.com/github/aryamangoenka/-THE-BULLET-AND-WALL/blob/main/Aryamangoenka.ipynb\" target=\"_parent\"><img src=\"https://colab.research.google.com/assets/colab-badge.svg\" alt=\"Open In Colab\"/></a>"
      ]
    },
    {
      "cell_type": "code",
      "execution_count": 33,
      "metadata": {
        "colab": {
          "base_uri": "https://localhost:8080/"
        },
        "id": "t3IKQyWZ6mAt",
        "outputId": "397323e9-10b6-4b2d-d397-62a2e3e34435"
      },
      "outputs": [
        {
          "output_type": "stream",
          "name": "stdout",
          "text": [
            "0.004524886877828055\n",
            "0.00904977375565611\n"
          ]
        }
      ],
      "source": [
        "# import all needed libraries and the data set\n",
        "from sklearn import datasets\n",
        "from sklearn.linear_model import LogisticRegression\n",
        "from sklearn.model_selection import train_test_split\n",
        "from sklearn.metrics import accuracy_score\n",
        "\n",
        "from sklearn.tree import DecisionTreeRegressor\n",
        "dia = datasets.load_diabetes()\n",
        "Xtrain, Xtest, ytrain, ytest = train_test_split(dia.data,dia.target,test_size=0.5, random_state=1)\n",
        "model=LogisticRegression()\n",
        "model.fit(Xtrain,ytrain)\n",
        "ypred=model.predict(Xtest)\n",
        "accuracy=accuracy_score(ytest,ypred)\n",
        "print(accuracy)\n",
        "\n",
        "Xtrain1, Xtest1, ytrain1, ytest1 = train_test_split(dia.data,dia.target,test_size=0.5, random_state=1)\n",
        "model1 = DecisionTreeRegressor()\n",
        "model1.fit(Xtrain1, ytrain1)\n",
        "ypred1= model1.predict(Xtest1)\n",
        "accuracy1=accuracy_score(ytest1,ypred1)\n",
        "print(accuracy1)\n",
        "\n",
        "#the output shows that accuracy score of DecisionTreeRegressor is close to 2 times as compared to LogisticRegression"
      ]
    }
  ]
}